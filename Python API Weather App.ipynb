{
 "cells": [
  {
   "cell_type": "code",
   "execution_count": null,
   "metadata": {},
   "outputs": [],
   "source": [
    "import requests\n",
    "\n",
    "import json\n",
    "\n",
    "    \n",
    "city = input(str(\"Please Enter yout City : \"))\n",
    "    \n",
    "url = \"https://community-open-weather-map.p.rapidapi.com/weather\"\n",
    "\n",
    "querystring = {\"callback\":\"test\",\"id\":\"2172797\",\"units\":\"%22metric%22 or %22imperial%22\",\"mode\":\"xml%2C html\",\"q\":city}\n",
    "\n",
    "headers = {\n",
    "    'x-rapidapi-host': \"community-open-weather-map.p.rapidapi.com\",\n",
    "    'x-rapidapi-key': \"3a498859c5msh412bbfd36004dbcp1acc62jsne99b7a2663fb\"\n",
    "    }\n",
    "\n",
    "response = requests.request(\"GET\", url, headers=headers, params=querystring)\n",
    "\n",
    "if response.status_code == 200:\n",
    "    \n",
    "    responsetext = response.text\n",
    "\n",
    "    test = responsetext.replace(responsetext[0:5],\"\")\n",
    "\n",
    "    last = test.replace(test[-1],\"\")\n",
    "\n",
    "    data = json.loads(last)\n",
    "\n",
    "    name = data[\"name\"]\n",
    "\n",
    "    temp = data[\"main\"][\"temp\"]\n",
    "\n",
    "    pressure = data[\"main\"][\"pressure\"]\n",
    "\n",
    "    desc = data[\"weather\"][0][\"description\"]\n",
    "\n",
    "    print(\"CITY = \" + str(name))\n",
    "    print(\"TEMPERATURE = \" + str(temp))\n",
    "    print(\"PRESSURE = \" + str(pressure))\n",
    "    print(\"DESCRIPTION = \" + str(desc))\n",
    "\n",
    "else:\n",
    "    \n",
    "    city = input(str(\"Please Enter yout City : \"))\n"
   ]
  },
  {
   "cell_type": "code",
   "execution_count": 12,
   "metadata": {},
   "outputs": [],
   "source": [
    "responsetext = response.text\n",
    "\n",
    "test = responsetext.replace(responsetext[0:5],\"\")\n",
    "\n",
    "last = test.replace(test[-1],\"\")\n",
    "\n",
    "data = json.loads(last)"
   ]
  },
  {
   "cell_type": "code",
   "execution_count": 13,
   "metadata": {},
   "outputs": [
    {
     "name": "stdout",
     "output_type": "stream",
     "text": [
      "CITY = Africa\n",
      "TEMPERATURE = 295.4\n",
      "PRESSURE = 1012\n",
      "DESCRIPTION = overcast clouds\n"
     ]
    }
   ],
   "source": [
    "name = data[\"name\"]\n",
    "\n",
    "temp = data[\"main\"][\"temp\"]\n",
    "\n",
    "pressure = data[\"main\"][\"pressure\"]\n",
    "\n",
    "desc = data[\"weather\"][0][\"description\"]\n",
    "\n",
    "print(\"CITY = \" + str(name))\n",
    "print(\"TEMPERATURE = \" + str(temp))\n",
    "print(\"PRESSURE = \" + str(pressure))\n",
    "print(\"DESCRIPTION = \" + str(desc))"
   ]
  },
  {
   "cell_type": "code",
   "execution_count": null,
   "metadata": {},
   "outputs": [],
   "source": []
  },
  {
   "cell_type": "code",
   "execution_count": null,
   "metadata": {},
   "outputs": [],
   "source": []
  },
  {
   "cell_type": "code",
   "execution_count": 49,
   "metadata": {},
   "outputs": [
    {
     "name": "stdout",
     "output_type": "stream",
     "text": [
      "Please Enter yout City : afranzio\n",
      "Please Enter yout City : africa\n",
      "CITY = Africa\n",
      "TEMPERATURE = 296.15\n",
      "PRESSURE = 1013\n",
      "DESCRIPTION = overcast clouds\n"
     ]
    }
   ],
   "source": [
    "import requests\n",
    "\n",
    "import json\n",
    "\n",
    "    \n",
    "city = input(str(\"Please Enter yout City : \"))\n",
    "    \n",
    "url = \"https://community-open-weather-map.p.rapidapi.com/weather\"\n",
    "\n",
    "querystring = {\"callback\":\"test\",\"id\":\"2172797\",\"units\":\"%22metric%22 or %22imperial%22\",\"mode\":\"xml%2C html\",\"q\":city}\n",
    "\n",
    "headers = {\n",
    "    'x-rapidapi-host': \"community-open-weather-map.p.rapidapi.com\",\n",
    "    'x-rapidapi-key': \"3a498859c5msh412bbfd36004dbcp1acc62jsne99b7a2663fb\"\n",
    "    }\n",
    "\n",
    "response = requests.request(\"GET\", url, headers=headers, params=querystring)\n",
    "\n",
    "def fun():\n",
    "    \n",
    "    responsetext = response.text\n",
    "\n",
    "    test = responsetext.replace(responsetext[0:5],\"\")\n",
    "\n",
    "    last = test.replace(test[-1],\"\")\n",
    "\n",
    "    data = json.loads(last)\n",
    "\n",
    "    name = data[\"name\"]\n",
    "\n",
    "    temp = data[\"main\"][\"temp\"]\n",
    "\n",
    "    pressure = data[\"main\"][\"pressure\"]\n",
    "\n",
    "    desc = data[\"weather\"][0][\"description\"]\n",
    "\n",
    "    print(\"CITY = \" + str(name))\n",
    "    print(\"TEMPERATURE = \" + str(temp))\n",
    "    print(\"PRESSURE = \" + str(pressure))\n",
    "    print(\"DESCRIPTION = \" + str(desc))\n",
    "\n",
    "if response.status_code == 200:\n",
    "    \n",
    "    fun()\n",
    "\n",
    "else:\n",
    "\n",
    "    city = input(str(\"Please Enter yout City : \"))\n",
    "\n",
    "    url = \"https://community-open-weather-map.p.rapidapi.com/weather\"\n",
    "\n",
    "    querystring = {\"callback\":\"test\",\"id\":\"2172797\",\"units\":\"%22metric%22 or %22imperial%22\",\"mode\":\"xml%2C html\",\"q\":city}\n",
    "\n",
    "    headers = {\n",
    "        'x-rapidapi-host': \"community-open-weather-map.p.rapidapi.com\",\n",
    "        'x-rapidapi-key': \"3a498859c5msh412bbfd36004dbcp1acc62jsne99b7a2663fb\"\n",
    "        }\n",
    "\n",
    "    response = requests.request(\"GET\", url, headers=headers, params=querystring)\n",
    "    \n",
    "    fun()"
   ]
  },
  {
   "cell_type": "code",
   "execution_count": null,
   "metadata": {},
   "outputs": [],
   "source": []
  },
  {
   "cell_type": "code",
   "execution_count": null,
   "metadata": {},
   "outputs": [],
   "source": []
  }
 ],
 "metadata": {
  "kernelspec": {
   "display_name": "Python 3",
   "language": "python",
   "name": "python3"
  },
  "language_info": {
   "codemirror_mode": {
    "name": "ipython",
    "version": 3
   },
   "file_extension": ".py",
   "mimetype": "text/x-python",
   "name": "python",
   "nbconvert_exporter": "python",
   "pygments_lexer": "ipython3",
   "version": "3.7.6"
  }
 },
 "nbformat": 4,
 "nbformat_minor": 4
}
